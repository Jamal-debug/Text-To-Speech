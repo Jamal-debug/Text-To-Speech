{
 "cells": [
  {
   "cell_type": "code",
   "execution_count": 1,
   "id": "a52d3996-70b6-42dc-84ca-6d0e23181982",
   "metadata": {},
   "outputs": [],
   "source": [
    "import tkinter as tk\n",
    "from tkinter import *\n",
    "from tkinter import filedialog\n",
    "from tkinter.ttk import Combobox\n",
    "import pyttsx3\n",
    "import os"
   ]
  },
  {
   "cell_type": "code",
   "execution_count": 104,
   "id": "56057811-b883-4a59-93c4-5d5845f0174b",
   "metadata": {},
   "outputs": [],
   "source": [
    "root=Tk()\n",
    "root.title(\"Text to Speech\")\n",
    "root.geometry(\"950x500\")\n",
    "root.resizable(False,False)\n",
    "root.configure(bg=\"#305065\")\n",
    "\n",
    "engine= pyttsx3.init()\n",
    "def nowspeak():\n",
    "    text=textarea.get(1.0,END)\n",
    "    gender=genderbox.get()\n",
    "    speed=speedbox.get()\n",
    "    voices=engine.getProperty(\"voices\")\n",
    "    def voiceset():\n",
    "        if(gender==\"Male\"):\n",
    "            engine.setProperty(\"voice\",voices[0].id)\n",
    "            engine.say(text)\n",
    "            engine.runAndWait()\n",
    "        else:\n",
    "            engine.setProperty(\"voice\",voices[1].id)\n",
    "            engine.say(text)\n",
    "            engine.runAndWait()\n",
    "    if(text):\n",
    "        if(speed==\"Fast\"):\n",
    "            engine.setProperty('rate',250)\n",
    "            voiceset()\n",
    "        if(speed==\"Normal\"):\n",
    "            engine.setProperty('rate',150)\n",
    "            voiceset()\n",
    "        if(speed==\"Slow\"):\n",
    "            engine.setProperty('rate',50)\n",
    "            voiceset()\n",
    "def download():\n",
    "    print()\n",
    "#image icon\n",
    "imag=PhotoImage(file=\"amu_logo.png\")\n",
    "root.iconphoto(False,imag)\n",
    "#top frame\n",
    "top_frame=Frame(root,bg=\"whitesmoke\",width=950,height=100)\n",
    "top_frame.place(x=0,y=0)\n",
    "#logo\n",
    "logo=PhotoImage(file=\"speaker logo.png\")\n",
    "Label(top_frame,image=logo,bg=\"whitesmoke\").place(x=10,y=5)\n",
    "Label(top_frame,text=\"TEXT TO SPEECH\",font=\"arial 35 bold\",bg=\"whitesmoke\",fg=\"black\").place(x=100,y=20)\n",
    "Label(root,text=\"VOICE\",font=\"Arial 15 bold\",bg=\"#305065\",fg=\"whitesmoke\").place(x=550,y=160)\n",
    "Label(root,text=\"SPEED\",font=\"Arial 15 bold\",bg=\"#305065\",fg=\"whitesmoke\").place(x=750,y=160)\n",
    "######\n",
    "textarea=Text(root,font=\"Robote 20\",bg=\"white\",relief=GROOVE,wrap=WORD)\n",
    "textarea.place(x=10,y=150,width=500, height=250)\n",
    "# gender\n",
    "genderbox=Combobox(root,values=['Male','Female'],state='r',width=10)\n",
    "genderbox.place(x=550,y=200)\n",
    "genderbox.set('Male')\n",
    "speedbox=Combobox(root,values=['Fast','Normal','Slow'],state='r',width=10)\n",
    "speedbox.place(x=750,y=200)\n",
    "speedbox.set(\"Normal\")\n",
    "imageicon=PhotoImage(file=\"Capture.png\")\n",
    "button=Button(root,text=\"SPEAK\",compound=LEFT,image=imageicon,width=150,height=60,font=\"Arial 14 bold\",command=nowspeak)\n",
    "button.place(x=550,y=270)\n",
    "\n",
    "imageicon2=PhotoImage(file=\"download.png\")\n",
    "save=Button(root,text=\"SAVE\",compound=LEFT,image=imageicon2,width=150,height=60,font=\"Arial 14 bold\",bg=\"#39c790\")\n",
    "save.place(x=750,y=270)\n",
    "\n",
    "root.mainloop()"
   ]
  },
  {
   "cell_type": "code",
   "execution_count": null,
   "id": "1dfa5f05-c5d6-42a1-bdeb-13b5b1b0976f",
   "metadata": {},
   "outputs": [],
   "source": []
  },
  {
   "cell_type": "code",
   "execution_count": null,
   "id": "59729600-1c4b-442d-88bd-4c86f04ad1d2",
   "metadata": {},
   "outputs": [],
   "source": []
  }
 ],
 "metadata": {
  "kernelspec": {
   "display_name": "Python 3 (ipykernel)",
   "language": "python",
   "name": "python3"
  },
  "language_info": {
   "codemirror_mode": {
    "name": "ipython",
    "version": 3
   },
   "file_extension": ".py",
   "mimetype": "text/x-python",
   "name": "python",
   "nbconvert_exporter": "python",
   "pygments_lexer": "ipython3",
   "version": "3.12.4"
  }
 },
 "nbformat": 4,
 "nbformat_minor": 5
}
